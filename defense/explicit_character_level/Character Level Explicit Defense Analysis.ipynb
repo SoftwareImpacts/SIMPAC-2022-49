{
 "cells": [
  {
   "cell_type": "code",
   "execution_count": 60,
   "id": "80d236f1",
   "metadata": {},
   "outputs": [],
   "source": [
    "from character_embeddings import CharacterEmbeddings\n",
    "from model import GermanHateSpeechModel\n",
    "import pandas as pd\n",
    "import os\n",
    "from tqdm import tqdm\n",
    "import torch\n",
    "import numpy as np\n",
    "from fuzzywuzzy import fuzz"
   ]
  },
  {
   "cell_type": "code",
   "execution_count": 94,
   "id": "98729439",
   "metadata": {},
   "outputs": [],
   "source": [
    "def recovery_rate_(list1, list2, list3):\n",
    "    src_count = 1\n",
    "    def_count = 0\n",
    "    for src,target in zip(list1, list2):\n",
    "        if src in list1 and src not in list2:\n",
    "            src_count+=1\n",
    "        if src in list1 and src not in list2 and src in list3:\n",
    "            def_count+=1\n",
    "    if src_count > 1:\n",
    "        src_count -=1\n",
    "    return def_count/ src_count \n"
   ]
  },
  {
   "cell_type": "code",
   "execution_count": 97,
   "id": "87d79632",
   "metadata": {},
   "outputs": [
    {
     "name": "stderr",
     "output_type": "stream",
     "text": [
      "100%|██████████| 9/9 [00:00<00:00, 11.89it/s]\n"
     ]
    }
   ],
   "source": [
    "basepath = \"./datasets\"\n",
    "results = []\n",
    "for filename in tqdm(os.listdir(f\"{basepath}\")):\n",
    "    if \"defense\" in filename and \"summary\" not in filename:\n",
    "        path = f\"{basepath}/{filename}\"\n",
    "        dataset = pd.read_csv(path)\n",
    "        \n",
    "        recovery_rate = []\n",
    "        \n",
    "        for idx,row in dataset.iterrows():\n",
    "            original_text, perturbed_text, defended_text = (row['original_text'], \n",
    "                                                            row['perturbed_text'], row['defended_text'])\n",
    "            recovery_rate.append(recovery_rate_(original_text.split(\" \"), \n",
    "                                                        perturbed_text.split(\" \"), defended_text.split(\" \")))\n",
    "        results.append({\n",
    "                        \"token_recovery_rate_mean\":np.mean(recovery_rate), \n",
    "                        \"token_recovery_rate_median\":np.median(recovery_rate),\n",
    "                        \"adverserial_source\": filename \n",
    "                       })"
   ]
  },
  {
   "cell_type": "code",
   "execution_count": 98,
   "id": "df8bf7c5",
   "metadata": {},
   "outputs": [
    {
     "data": {
      "text/html": [
       "<div>\n",
       "<style scoped>\n",
       "    .dataframe tbody tr th:only-of-type {\n",
       "        vertical-align: middle;\n",
       "    }\n",
       "\n",
       "    .dataframe tbody tr th {\n",
       "        vertical-align: top;\n",
       "    }\n",
       "\n",
       "    .dataframe thead th {\n",
       "        text-align: right;\n",
       "    }\n",
       "</style>\n",
       "<table border=\"1\" class=\"dataframe\">\n",
       "  <thead>\n",
       "    <tr style=\"text-align: right;\">\n",
       "      <th></th>\n",
       "      <th>token_recovery_rate_mean</th>\n",
       "      <th>token_recovery_rate_median</th>\n",
       "      <th>adverserial_source</th>\n",
       "    </tr>\n",
       "  </thead>\n",
       "  <tbody>\n",
       "    <tr>\n",
       "      <th>0</th>\n",
       "      <td>0.545741</td>\n",
       "      <td>0.5</td>\n",
       "      <td>results-germeval_whitebox_charlevel_attack_def...</td>\n",
       "    </tr>\n",
       "    <tr>\n",
       "      <th>1</th>\n",
       "      <td>0.008235</td>\n",
       "      <td>0.0</td>\n",
       "      <td>results-hasoc_whitebox_charlevel_attack_defens...</td>\n",
       "    </tr>\n",
       "    <tr>\n",
       "      <th>2</th>\n",
       "      <td>0.673529</td>\n",
       "      <td>1.0</td>\n",
       "      <td>results-germeval_blackbox_charlevel_attack_def...</td>\n",
       "    </tr>\n",
       "    <tr>\n",
       "      <th>3</th>\n",
       "      <td>0.008204</td>\n",
       "      <td>0.0</td>\n",
       "      <td>results-hasoc_blackbox_charlevel_attack_defens...</td>\n",
       "    </tr>\n",
       "  </tbody>\n",
       "</table>\n",
       "</div>"
      ],
      "text/plain": [
       "   token_recovery_rate_mean  token_recovery_rate_median  \\\n",
       "0                  0.545741                         0.5   \n",
       "1                  0.008235                         0.0   \n",
       "2                  0.673529                         1.0   \n",
       "3                  0.008204                         0.0   \n",
       "\n",
       "                                  adverserial_source  \n",
       "0  results-germeval_whitebox_charlevel_attack_def...  \n",
       "1  results-hasoc_whitebox_charlevel_attack_defens...  \n",
       "2  results-germeval_blackbox_charlevel_attack_def...  \n",
       "3  results-hasoc_blackbox_charlevel_attack_defens...  "
      ]
     },
     "execution_count": 98,
     "metadata": {},
     "output_type": "execute_result"
    }
   ],
   "source": [
    "pd.DataFrame(results)"
   ]
  },
  {
   "cell_type": "code",
   "execution_count": null,
   "id": "34d60979",
   "metadata": {},
   "outputs": [],
   "source": []
  }
 ],
 "metadata": {
  "kernelspec": {
   "display_name": "Python 3",
   "language": "python",
   "name": "python3"
  },
  "language_info": {
   "codemirror_mode": {
    "name": "ipython",
    "version": 3
   },
   "file_extension": ".py",
   "mimetype": "text/x-python",
   "name": "python",
   "nbconvert_exporter": "python",
   "pygments_lexer": "ipython3",
   "version": "3.9.2"
  }
 },
 "nbformat": 4,
 "nbformat_minor": 5
}
