{
 "cells": [
  {
   "cell_type": "code",
   "execution_count": 1,
   "metadata": {},
   "outputs": [],
   "source": [
    "from character_embeddings import CharacterEmbeddings\n",
    "from model import GermanHateSpeechModel\n",
    "import pandas as pd\n",
    "import os\n",
    "from tqdm import tqdm\n",
    "import torch\n",
    "import numpy as np\n",
    "from fuzzywuzzy import fuzz"
   ]
  },
  {
   "cell_type": "code",
   "execution_count": 2,
   "metadata": {},
   "outputs": [],
   "source": [
    "def jaccard_similarity(A, B):\n",
    "    #Find intersection of two sets\n",
    "    nominator = A.intersection(B)\n",
    "\n",
    "    #Find union of two sets\n",
    "    denominator = A.union(B)\n",
    "\n",
    "    #Take the ratio of sizes\n",
    "    similarity = len(nominator)/len(denominator)\n",
    "    \n",
    "    return similarity\n"
   ]
  },
  {
   "cell_type": "code",
   "execution_count": 7,
   "metadata": {},
   "outputs": [
    {
     "name": "stderr",
     "output_type": "stream",
     "text": [
      "100%|██████████| 10/10 [00:00<00:00, 65.01it/s]\n"
     ]
    }
   ],
   "source": [
    "basepath = \"./datasets\"\n",
    "results = []\n",
    "for filename in tqdm(os.listdir(f\"{basepath}\")):\n",
    "    ds = \"hasoc\"\n",
    "    if \"defense\" in filename and \"whitebox\" in filename  and \"summary\" not in filename:\n",
    "        path = f\"{basepath}/{filename}\"\n",
    "        dataset = pd.read_csv(path)\n",
    "        \n",
    "        perturbed_jaccard, defended_jaccard = [], []\n",
    "        \n",
    "        for idx,row in dataset.iterrows():\n",
    "            original_text, perturbed_text, defended_text = (row['original_text'].lower(), \n",
    "                                                            row['perturbed_text'].lower(), row['defended_text'].lower())\n",
    "            \n",
    "            #print(\">>>>>>>>>>\")\n",
    "            #print(original_text)\n",
    "            #print(perturbed_text)\n",
    "            #print(defended_text)\n",
    "            #print(\"<<<<<<<<<<\")\n",
    "            perturbed_jaccard.append(jaccard_similarity(set(original_text.split(\" \")), set(perturbed_text.split(\" \"))))\n",
    "            defended_jaccard.append(jaccard_similarity(set(original_text.split(\" \")), set(defended_text.split(\" \"))))\n",
    "        if \"germeval\" in filename:\n",
    "            ds=\"germeval\"\n",
    "        results.append({\n",
    "                        \"jaccard_similarity\":np.median(perturbed_jaccard), \n",
    "                        \"dataset\": f\"{ds}\",\n",
    "                        \"evaluation_type\": \"perturbed\",\n",
    "                        \"adverserial_source\": filename \n",
    "                       })\n",
    "        results.append({\n",
    "                         \"jaccard_similarity\":np.median(defended_jaccard),\n",
    "                        \"dataset\": f\"{ds}\",\n",
    "            \"evaluation_type\": \"defended\",\n",
    "                        \"adverserial_source\": filename \n",
    "                       })\n",
    "       "
   ]
  },
  {
   "cell_type": "code",
   "execution_count": 8,
   "metadata": {},
   "outputs": [],
   "source": [
    "df = pd.DataFrame(results)"
   ]
  },
  {
   "cell_type": "code",
   "execution_count": 9,
   "metadata": {},
   "outputs": [
    {
     "data": {
      "text/html": [
       "<div>\n",
       "<style scoped>\n",
       "    .dataframe tbody tr th:only-of-type {\n",
       "        vertical-align: middle;\n",
       "    }\n",
       "\n",
       "    .dataframe tbody tr th {\n",
       "        vertical-align: top;\n",
       "    }\n",
       "\n",
       "    .dataframe thead th {\n",
       "        text-align: right;\n",
       "    }\n",
       "</style>\n",
       "<table border=\"1\" class=\"dataframe\">\n",
       "  <thead>\n",
       "    <tr style=\"text-align: right;\">\n",
       "      <th></th>\n",
       "      <th>jaccard_similarity</th>\n",
       "      <th>dataset</th>\n",
       "      <th>evaluation_type</th>\n",
       "      <th>adverserial_source</th>\n",
       "    </tr>\n",
       "  </thead>\n",
       "  <tbody>\n",
       "    <tr>\n",
       "      <th>0</th>\n",
       "      <td>0.764706</td>\n",
       "      <td>germeval</td>\n",
       "      <td>perturbed</td>\n",
       "      <td>results-germeval_whitebox_charlevel_attack_def...</td>\n",
       "    </tr>\n",
       "    <tr>\n",
       "      <th>1</th>\n",
       "      <td>0.909091</td>\n",
       "      <td>germeval</td>\n",
       "      <td>defended</td>\n",
       "      <td>results-germeval_whitebox_charlevel_attack_def...</td>\n",
       "    </tr>\n",
       "    <tr>\n",
       "      <th>2</th>\n",
       "      <td>0.529412</td>\n",
       "      <td>hasoc</td>\n",
       "      <td>perturbed</td>\n",
       "      <td>results-hasoc_whitebox_charlevel_attack_defens...</td>\n",
       "    </tr>\n",
       "    <tr>\n",
       "      <th>3</th>\n",
       "      <td>0.228571</td>\n",
       "      <td>hasoc</td>\n",
       "      <td>defended</td>\n",
       "      <td>results-hasoc_whitebox_charlevel_attack_defens...</td>\n",
       "    </tr>\n",
       "  </tbody>\n",
       "</table>\n",
       "</div>"
      ],
      "text/plain": [
       "   jaccard_similarity   dataset evaluation_type  \\\n",
       "0            0.764706  germeval       perturbed   \n",
       "1            0.909091  germeval        defended   \n",
       "2            0.529412     hasoc       perturbed   \n",
       "3            0.228571     hasoc        defended   \n",
       "\n",
       "                                  adverserial_source  \n",
       "0  results-germeval_whitebox_charlevel_attack_def...  \n",
       "1  results-germeval_whitebox_charlevel_attack_def...  \n",
       "2  results-hasoc_whitebox_charlevel_attack_defens...  \n",
       "3  results-hasoc_whitebox_charlevel_attack_defens...  "
      ]
     },
     "execution_count": 9,
     "metadata": {},
     "output_type": "execute_result"
    }
   ],
   "source": [
    "#res = df[[\"perturbed_jaccard_mean\",\"defended_jaccard_median\"]].values\n",
    "df"
   ]
  },
  {
   "cell_type": "code",
   "execution_count": 10,
   "metadata": {},
   "outputs": [],
   "source": [
    "import numpy as np\n",
    "import matplotlib.pyplot as plt\n",
    "import pandas as pd\n",
    "import os\n",
    "from fuzzywuzzy import fuzz\n",
    "from fuzzywuzzy import process\n",
    "import seaborn as sns\n",
    "from scipy import stats"
   ]
  },
  {
   "cell_type": "code",
   "execution_count": 15,
   "metadata": {},
   "outputs": [
    {
     "data": {
      "image/png": "[encoded data removed]",
      "text/plain": [
       "<Figure size 410.4x307.44 with 1 Axes>"
      ]
     },
     "metadata": {},
     "output_type": "display_data"
    }
   ],
   "source": [
    "a4_dims = (10, 8)\n",
    "plt.rcParams.update({'font.size': 19})\n",
    "#fig, ax = plt.subplots(figsize=a4_dims)\n",
    "#plt.ylim(0.2, 0.95)\n",
    "#ax.tick_params(axis='x', rotation=16)\n",
    "#ax.tick_params(axis='x', rotation=16)\n",
    "#sns.barplot(ax=ax, x=\"evaluation_type\", y=\"jaccard_similarity\",hue=\"dataset\" ,data=df);\n",
    "sns.set_theme(style=\"whitegrid\")\n",
    "plt.rcParams['figure.figsize'] = 42,33.27\n",
    "g = sns.catplot(x=\"evaluation_type\", y=\"jaccard_similarity\", hue=\"dataset\",markers=[\"^\", \"o\"], linestyles=[\"-\", \"--\"],\n",
    "            kind=\"point\", data=df, legend=False,palette=\"Set2\",height=4.27, aspect=5.7/4.27 )#height=8.27, aspect=11.7/8.27\n",
    "g.set_xticklabels(rotation=30)\n",
    "plt.legend(title='Dataset', loc='lower left')\n",
    "plt.subplots_adjust(bottom=0.15)\n",
    "plt.savefig(\"evaluation_type.pdf\",dpi=300, bbox_inches = \"tight\")\n",
    "#plt.savefig(\"perturbed_defended_jaccard.pdf\")"
   ]
  },
  {
   "cell_type": "code",
   "execution_count": null,
   "metadata": {},
   "outputs": [],
   "source": []
  }
 ],
 "metadata": {
  "kernelspec": {
   "display_name": "Python 3",
   "language": "python",
   "name": "python3"
  },
  "language_info": {
   "codemirror_mode": {
    "name": "ipython",
    "version": 3
   },
   "file_extension": ".py",
   "mimetype": "text/x-python",
   "name": "python",
   "nbconvert_exporter": "python",
   "pygments_lexer": "ipython3",
   "version": "3.8.5"
  }
 },
 "nbformat": 4,
 "nbformat_minor": 5
}
