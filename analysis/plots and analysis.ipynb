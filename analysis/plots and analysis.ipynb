{
 "cells": [
  {
   "cell_type": "code",
   "execution_count": 1,
   "metadata": {},
   "outputs": [],
   "source": [
    "import numpy as np\n",
    "import matplotlib.pyplot as plt\n",
    "import pandas as pd\n",
    "import os\n",
    "from fuzzywuzzy import fuzz\n",
    "from fuzzywuzzy import process\n",
    "import seaborn as sns\n",
    "from scipy import stats"
   ]
  },
  {
   "cell_type": "code",
   "execution_count": 3,
   "metadata": {},
   "outputs": [],
   "source": [
    "\n",
    "def remove_tags(sequence):\n",
    "    colors = [\"red\", \"green\"]\n",
    "    sequence = sequence.replace(\"</font>\", \"\")\n",
    "    for color in colors:\n",
    "        sequence = sequence.replace(f\"<font color = {color}>\", \"\")\n",
    "    return sequence\n"
   ]
  },
  {
   "cell_type": "code",
   "execution_count": 4,
   "metadata": {},
   "outputs": [],
   "source": [
    "\n",
    "## result files\n",
    "files = os.listdir(\"adv_results/\")\n",
    "datasets = {}\n",
    "for file in files:\n",
    "    if file != '.DS_Store':\n",
    "        df = pd.read_csv(f\"adv_results/{file}\")\n",
    "        file = file.replace(\".csv\",\"\")\n",
    "        datasets[file] = {\n",
    "           'original_text': [remove_tags(text) for text in df['original_text'].values.tolist()], \n",
    "           'perturbed_text': [remove_tags(text) for text in df['perturbed_text'].values.tolist()],\n",
    "            'num_queries': df['num_queries'].values.tolist(),\n",
    "            'original_text_len': [len(remove_tags(text)) for text in df['original_text'].values.tolist()], \n",
    "        }"
   ]
  },
  {
   "cell_type": "code",
   "execution_count": null,
   "metadata": {},
   "outputs": [],
   "source": [
    "datasets.keys()"
   ]
  },
  {
   "cell_type": "code",
   "execution_count": null,
   "metadata": {},
   "outputs": [],
   "source": [
    "datasets_fuzzy_char = ['germeval_baseline_whitebox_wordlevel', 'germeval_whitebox_charlevel', 'germeval_whitebox_wordlevel', 'hasoc_baseline_whitebox_wordlevel', 'hasoc_whitebox_wordlevel', 'hasoc_whitebox_charlevel']\n",
    "fuzzy_results = []\n",
    "for dataset in datasets_fuzzy_char:\n",
    "    #fuzzy_results[dataset] = \n",
    "    for idx, _ in enumerate(datasets[dataset]['original_text']):\n",
    "        score = fuzz.ratio(datasets[dataset]['original_text'][idx], datasets[dataset]['perturbed_text'][idx])/100\n",
    "        fuzzy_results.append({\n",
    "            'score':score,\n",
    "            'dataset': dataset.split('_')[0],\n",
    "            'attack': \" \".join(dataset.split('_')[1:]).replace(\" whitebox \", \" \")\n",
    "        })"
   ]
  },
  {
   "cell_type": "code",
   "execution_count": null,
   "metadata": {},
   "outputs": [],
   "source": [
    "fuzzy_df = pd.DataFrame(fuzzy_results)\n",
    "a4_dims = (10, 8)\n",
    "plt.rcParams.update({'font.size': 19})\n",
    "fig, ax = plt.subplots(figsize=a4_dims)\n",
    "ax = sns.boxplot(ax=ax, x=\"attack\", y=\"score\", hue=\"dataset\",\n",
    "                 data=fuzzy_df, )"
   ]
  },
  {
   "cell_type": "code",
   "execution_count": 55,
   "metadata": {},
   "outputs": [],
   "source": [
    "datasets_corr = ['germeval_baseline_whitebox_wordlevel', 'germeval_whitebox_charlevel', 'germeval_whitebox_wordlevel', 'hasoc_baseline_whitebox_wordlevel', 'hasoc_whitebox_wordlevel', 'hasoc_whitebox_charlevel']\n",
    "corr_results = []\n",
    "for dataset in datasets_corr:\n",
    "    points_a, points_b = [], []\n",
    "    for idx, _ in enumerate(datasets[dataset]['original_text']):\n",
    "        points_a.append(datasets[dataset][\"num_queries\"][idx])\n",
    "        points_b.append(datasets[dataset][\"original_text_len\"][idx])\n",
    "        \n",
    "    \n",
    "    corr_results.append({\n",
    "        'pearson r':stats.pearsonr(points_a, points_b)[0],\n",
    "        'dataset': dataset.split('_')[0],\n",
    "        'attack': \" \".join(dataset.split('_')[1:]).replace(\" whitebox \", \" \")\n",
    "    })"
   ]
  },
  {
   "cell_type": "code",
   "execution_count": 56,
   "metadata": {},
   "outputs": [],
   "source": [
    "corr_df = pd.DataFrame(corr_results)"
   ]
  },
  {
   "cell_type": "code",
   "execution_count": 58,
   "metadata": {},
   "outputs": [
    {
     "data": {
      "image/png": "[encoded data removed]",
      "text/plain": [
       "<Figure size 720x576 with 1 Axes>"
      ]
     },
     "metadata": {
      "needs_background": "light"
     },
     "output_type": "display_data"
    }
   ],
   "source": [
    "a4_dims = (10, 8)\n",
    "plt.rcParams.update({'font.size': 19})\n",
    "fig, ax = plt.subplots(figsize=a4_dims)\n",
    "ax = sns.barplot(ax=ax, x=\"attack\", y=\"pearson r\", hue=\"dataset\",\n",
    "                 data=corr_df  )\n",
    "#g = sns.factorplot(x=\"X_Axis\", y=\"vals\", hue='cols', data=dfm)"
   ]
  },
  {
   "cell_type": "code",
   "execution_count": 28,
   "metadata": {},
   "outputs": [
    {
     "data": {
      "text/html": [
       "<div>\n",
       "<style scoped>\n",
       "    .dataframe tbody tr th:only-of-type {\n",
       "        vertical-align: middle;\n",
       "    }\n",
       "\n",
       "    .dataframe tbody tr th {\n",
       "        vertical-align: top;\n",
       "    }\n",
       "\n",
       "    .dataframe thead th {\n",
       "        text-align: right;\n",
       "    }\n",
       "</style>\n",
       "<table border=\"1\" class=\"dataframe\">\n",
       "  <thead>\n",
       "    <tr style=\"text-align: right;\">\n",
       "      <th></th>\n",
       "      <th>num_queries</th>\n",
       "      <th>original_text_len</th>\n",
       "      <th>dataset</th>\n",
       "      <th>full</th>\n",
       "      <th>attack</th>\n",
       "    </tr>\n",
       "  </thead>\n",
       "  <tbody>\n",
       "    <tr>\n",
       "      <th>1294</th>\n",
       "      <td>1.0</td>\n",
       "      <td>1</td>\n",
       "      <td>germeval</td>\n",
       "      <td>germeval_whitebox_charlevel</td>\n",
       "      <td>whitebox charlevel</td>\n",
       "    </tr>\n",
       "    <tr>\n",
       "      <th>1942</th>\n",
       "      <td>1.0</td>\n",
       "      <td>1</td>\n",
       "      <td>germeval</td>\n",
       "      <td>germeval_whitebox_wordlevel</td>\n",
       "      <td>whitebox wordlevel</td>\n",
       "    </tr>\n",
       "    <tr>\n",
       "      <th>646</th>\n",
       "      <td>1.0</td>\n",
       "      <td>1</td>\n",
       "      <td>germeval</td>\n",
       "      <td>germeval_baseline_whitebox_wordlevel</td>\n",
       "      <td>baseline wordlevel</td>\n",
       "    </tr>\n",
       "    <tr>\n",
       "      <th>747</th>\n",
       "      <td>18.0</td>\n",
       "      <td>6</td>\n",
       "      <td>germeval</td>\n",
       "      <td>germeval_whitebox_charlevel</td>\n",
       "      <td>whitebox charlevel</td>\n",
       "    </tr>\n",
       "    <tr>\n",
       "      <th>99</th>\n",
       "      <td>1.0</td>\n",
       "      <td>6</td>\n",
       "      <td>germeval</td>\n",
       "      <td>germeval_baseline_whitebox_wordlevel</td>\n",
       "      <td>baseline wordlevel</td>\n",
       "    </tr>\n",
       "  </tbody>\n",
       "</table>\n",
       "</div>"
      ],
      "text/plain": [
       "      num_queries  original_text_len   dataset  \\\n",
       "1294          1.0                  1  germeval   \n",
       "1942          1.0                  1  germeval   \n",
       "646           1.0                  1  germeval   \n",
       "747          18.0                  6  germeval   \n",
       "99            1.0                  6  germeval   \n",
       "\n",
       "                                      full              attack  \n",
       "1294           germeval_whitebox_charlevel  whitebox charlevel  \n",
       "1942           germeval_whitebox_wordlevel  whitebox wordlevel  \n",
       "646   germeval_baseline_whitebox_wordlevel  baseline wordlevel  \n",
       "747            germeval_whitebox_charlevel  whitebox charlevel  \n",
       "99    germeval_baseline_whitebox_wordlevel  baseline wordlevel  "
      ]
     },
     "execution_count": 28,
     "metadata": {},
     "output_type": "execute_result"
    }
   ],
   "source": [
    "corr_df.sort_values(by=['original_text_len'], inplace=True)\n",
    "corr_df.head()\n"
   ]
  },
  {
   "cell_type": "code",
   "execution_count": 41,
   "metadata": {},
   "outputs": [
    {
     "data": {
      "text/html": [
       "<div>\n",
       "<style scoped>\n",
       "    .dataframe tbody tr th:only-of-type {\n",
       "        vertical-align: middle;\n",
       "    }\n",
       "\n",
       "    .dataframe tbody tr th {\n",
       "        vertical-align: top;\n",
       "    }\n",
       "\n",
       "    .dataframe thead th {\n",
       "        text-align: right;\n",
       "    }\n",
       "</style>\n",
       "<table border=\"1\" class=\"dataframe\">\n",
       "  <thead>\n",
       "    <tr style=\"text-align: right;\">\n",
       "      <th></th>\n",
       "      <th>num_queries</th>\n",
       "      <th>original_text_len</th>\n",
       "      <th>dataset</th>\n",
       "      <th>full</th>\n",
       "      <th>attack</th>\n",
       "    </tr>\n",
       "  </thead>\n",
       "  <tbody>\n",
       "    <tr>\n",
       "      <th>1294</th>\n",
       "      <td>1.0</td>\n",
       "      <td>1</td>\n",
       "      <td>germeval</td>\n",
       "      <td>germeval_whitebox_charlevel</td>\n",
       "      <td>whitebox charlevel</td>\n",
       "    </tr>\n",
       "    <tr>\n",
       "      <th>747</th>\n",
       "      <td>18.0</td>\n",
       "      <td>6</td>\n",
       "      <td>germeval</td>\n",
       "      <td>germeval_whitebox_charlevel</td>\n",
       "      <td>whitebox charlevel</td>\n",
       "    </tr>\n",
       "    <tr>\n",
       "      <th>1268</th>\n",
       "      <td>18.0</td>\n",
       "      <td>7</td>\n",
       "      <td>germeval</td>\n",
       "      <td>germeval_whitebox_charlevel</td>\n",
       "      <td>whitebox charlevel</td>\n",
       "    </tr>\n",
       "    <tr>\n",
       "      <th>731</th>\n",
       "      <td>41.0</td>\n",
       "      <td>7</td>\n",
       "      <td>germeval</td>\n",
       "      <td>germeval_whitebox_charlevel</td>\n",
       "      <td>whitebox charlevel</td>\n",
       "    </tr>\n",
       "    <tr>\n",
       "      <th>909</th>\n",
       "      <td>18.0</td>\n",
       "      <td>7</td>\n",
       "      <td>germeval</td>\n",
       "      <td>germeval_whitebox_charlevel</td>\n",
       "      <td>whitebox charlevel</td>\n",
       "    </tr>\n",
       "    <tr>\n",
       "      <th>...</th>\n",
       "      <td>...</td>\n",
       "      <td>...</td>\n",
       "      <td>...</td>\n",
       "      <td>...</td>\n",
       "      <td>...</td>\n",
       "    </tr>\n",
       "    <tr>\n",
       "      <th>863</th>\n",
       "      <td>1338.0</td>\n",
       "      <td>1427</td>\n",
       "      <td>germeval</td>\n",
       "      <td>germeval_whitebox_charlevel</td>\n",
       "      <td>whitebox charlevel</td>\n",
       "    </tr>\n",
       "    <tr>\n",
       "      <th>900</th>\n",
       "      <td>170.0</td>\n",
       "      <td>1449</td>\n",
       "      <td>germeval</td>\n",
       "      <td>germeval_whitebox_charlevel</td>\n",
       "      <td>whitebox charlevel</td>\n",
       "    </tr>\n",
       "    <tr>\n",
       "      <th>691</th>\n",
       "      <td>366.0</td>\n",
       "      <td>1457</td>\n",
       "      <td>germeval</td>\n",
       "      <td>germeval_whitebox_charlevel</td>\n",
       "      <td>whitebox charlevel</td>\n",
       "    </tr>\n",
       "    <tr>\n",
       "      <th>991</th>\n",
       "      <td>2440.0</td>\n",
       "      <td>1596</td>\n",
       "      <td>germeval</td>\n",
       "      <td>germeval_whitebox_charlevel</td>\n",
       "      <td>whitebox charlevel</td>\n",
       "    </tr>\n",
       "    <tr>\n",
       "      <th>1282</th>\n",
       "      <td>162.0</td>\n",
       "      <td>1765</td>\n",
       "      <td>germeval</td>\n",
       "      <td>germeval_whitebox_charlevel</td>\n",
       "      <td>whitebox charlevel</td>\n",
       "    </tr>\n",
       "  </tbody>\n",
       "</table>\n",
       "<p>648 rows × 5 columns</p>\n",
       "</div>"
      ],
      "text/plain": [
       "      num_queries  original_text_len   dataset                         full  \\\n",
       "1294          1.0                  1  germeval  germeval_whitebox_charlevel   \n",
       "747          18.0                  6  germeval  germeval_whitebox_charlevel   \n",
       "1268         18.0                  7  germeval  germeval_whitebox_charlevel   \n",
       "731          41.0                  7  germeval  germeval_whitebox_charlevel   \n",
       "909          18.0                  7  germeval  germeval_whitebox_charlevel   \n",
       "...           ...                ...       ...                          ...   \n",
       "863        1338.0               1427  germeval  germeval_whitebox_charlevel   \n",
       "900         170.0               1449  germeval  germeval_whitebox_charlevel   \n",
       "691         366.0               1457  germeval  germeval_whitebox_charlevel   \n",
       "991        2440.0               1596  germeval  germeval_whitebox_charlevel   \n",
       "1282        162.0               1765  germeval  germeval_whitebox_charlevel   \n",
       "\n",
       "                  attack  \n",
       "1294  whitebox charlevel  \n",
       "747   whitebox charlevel  \n",
       "1268  whitebox charlevel  \n",
       "731   whitebox charlevel  \n",
       "909   whitebox charlevel  \n",
       "...                  ...  \n",
       "863   whitebox charlevel  \n",
       "900   whitebox charlevel  \n",
       "691   whitebox charlevel  \n",
       "991   whitebox charlevel  \n",
       "1282  whitebox charlevel  \n",
       "\n",
       "[648 rows x 5 columns]"
      ]
     },
     "execution_count": 41,
     "metadata": {},
     "output_type": "execute_result"
    }
   ],
   "source": [
    "corr_df[corr_df['full']=='germeval_whitebox_charlevel']"
   ]
  },
  {
   "cell_type": "code",
   "execution_count": 46,
   "metadata": {},
   "outputs": [
    {
     "data": {
      "image/png": "[encoded data removed]",
      "text/plain": [
       "<Figure size 432x288 with 1 Axes>"
      ]
     },
     "metadata": {
      "needs_background": "light"
     },
     "output_type": "display_data"
    }
   ],
   "source": [
    "\n",
    "\n",
    "y1 = corr_df[corr_df['full']=='germeval_whitebox_charlevel'].original_text_len.values.tolist()\n",
    "y2 = corr_df[corr_df['full']=='germeval_whitebox_charlevel'].num_queries.values.tolist()\n",
    "\n",
    "y3 = corr_df[corr_df['full']=='hasoc_whitebox_charlevel'].original_text_len.values.tolist()\n",
    "y4 = corr_df[corr_df['full']=='hasoc_whitebox_charlevel'].num_queries.values.tolist()\n",
    "\"\"\"\n",
    "y3 = [32, 34, 35, 38, 39, 33, 35, 36]\n",
    "y4 = [42, 44, 45, 48, 49, 43, 45, 46]\n",
    "y5 = [52, 54, 55, 58, 59, 53, 55, 56]\"\"\"\n",
    " \n",
    " \n",
    "# Plot lines with different marker sizes\n",
    "plt.plot(y1, y2, label = 'Y1-Y2', lw=2, marker='s') # square\n",
    "plt.plot(y3, y4, label = 'Y1-Y3', lw=2, marker='^') # triangle\n",
    "\"\"\"\n",
    "plt.plot(y1, y4, label = 'Y1-Y4', lw=2, marker='o', ms=10) # circle\n",
    "plt.plot(y1, y5, label = 'Y1-Y5', lw=2, marker='D', ms=10) # diamond\n",
    "plt.plot(y2, y5, label = 'Y2-Y5', lw=2, marker='P', ms=10) # filled plus sign\"\"\"\n",
    " \n",
    "plt.legend()\n",
    "plt.show()"
   ]
  },
  {
   "cell_type": "code",
   "execution_count": null,
   "metadata": {},
   "outputs": [],
   "source": []
  }
 ],
 "metadata": {
  "kernelspec": {
   "display_name": "Python 3",
   "language": "python",
   "name": "python3"
  },
  "language_info": {
   "codemirror_mode": {
    "name": "ipython",
    "version": 3
   },
   "file_extension": ".py",
   "mimetype": "text/x-python",
   "name": "python",
   "nbconvert_exporter": "python",
   "pygments_lexer": "ipython3",
   "version": "3.8.5"
  }
 },
 "nbformat": 4,
 "nbformat_minor": 4
}
