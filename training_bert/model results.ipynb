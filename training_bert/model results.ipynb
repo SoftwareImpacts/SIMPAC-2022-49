{
 "cells": [
  {
   "cell_type": "code",
   "execution_count": 18,
   "metadata": {},
   "outputs": [],
   "source": [
    "import torch\n",
    "from transformers import (\n",
    "    AutoTokenizer,\n",
    "    AutoModelForSequenceClassification,\n",
    "    TextClassificationPipeline,\n",
    ")\n",
    "from tqdm import tqdm\n",
    "import pandas as pd\n",
    "from sklearn.metrics import classification_report"
   ]
  },
  {
   "cell_type": "code",
   "execution_count": 31,
   "metadata": {},
   "outputs": [],
   "source": [
    "device = torch.device(\"cuda\" if torch.cuda.is_available() else \"cpu\")\n",
    "def get_pipeline(model_name_path):\n",
    "    model = AutoModelForSequenceClassification.from_pretrained(model_name_path).to(\n",
    "        device\n",
    "    )\n",
    "    tokenizer = AutoTokenizer.from_pretrained(model_name_path)\n",
    "    pipeline = TextClassificationPipeline(model=model, tokenizer=tokenizer)\n",
    "    return pipeline"
   ]
  },
  {
   "cell_type": "markdown",
   "metadata": {},
   "source": [
    "## HASOC Results"
   ]
  },
  {
   "cell_type": "code",
   "execution_count": 34,
   "metadata": {},
   "outputs": [
    {
     "name": "stderr",
     "output_type": "stream",
     "text": [
      "100%|██████████| 850/850 [02:10<00:00,  6.49it/s]"
     ]
    },
    {
     "name": "stdout",
     "output_type": "stream",
     "text": [
      "              precision    recall  f1-score   support\n",
      "\n",
      "           0       0.84      1.00      0.92       714\n",
      "           1       1.00      0.03      0.06       136\n",
      "\n",
      "    accuracy                           0.84       850\n",
      "   macro avg       0.92      0.51      0.49       850\n",
      "weighted avg       0.87      0.84      0.78       850\n",
      "\n"
     ]
    },
    {
     "name": "stderr",
     "output_type": "stream",
     "text": [
      "\n"
     ]
    }
   ],
   "source": [
    "hasoc_pipeline = get_pipeline(\"/Users/shahrukh/Desktop/victim_models/hasoc_model\")\n",
    "hasoc_test_dataset = pd.read_csv('/Users/shahrukh/Desktop/adversarial-bert-german-attacks-defense/bert_finetuning/datasets/hasoc_dataset/hasoc_german_test.csv')\n",
    "\n",
    "hasoc_y = []\n",
    "hasoc_pred = []\n",
    "for index, row in tqdm(hasoc_test_dataset.iterrows(), total=hasoc_test_dataset.shape[0]):\n",
    "    hasoc_y.append(row.label)\n",
    "    if hasoc_pipeline(row.text)[0]['label'] == 'LABEL_0':\n",
    "        hasoc_pred.append(0)\n",
    "    else:\n",
    "        hasoc_pred.append(1)\n",
    "print(classification_report(hasoc_y, hasoc_pred))"
   ]
  },
  {
   "cell_type": "markdown",
   "metadata": {},
   "source": [
    "## GERMEVAL RESULTS"
   ]
  },
  {
   "cell_type": "code",
   "execution_count": 36,
   "metadata": {},
   "outputs": [
    {
     "name": "stderr",
     "output_type": "stream",
     "text": [
      "100%|██████████| 944/944 [02:16<00:00,  6.89it/s]"
     ]
    },
    {
     "name": "stdout",
     "output_type": "stream",
     "text": [
      "              precision    recall  f1-score   support\n",
      "\n",
      "           0       0.70      0.89      0.78       594\n",
      "           1       0.65      0.35      0.46       350\n",
      "\n",
      "    accuracy                           0.69       944\n",
      "   macro avg       0.67      0.62      0.62       944\n",
      "weighted avg       0.68      0.69      0.66       944\n",
      "\n"
     ]
    },
    {
     "name": "stderr",
     "output_type": "stream",
     "text": [
      "\n"
     ]
    }
   ],
   "source": [
    "germeval_pipeline = get_pipeline(\"/Users/shahrukh/Desktop/victim_models/germeval_model\")\n",
    "germeval_test_dataset = pd.read_csv('/Users/shahrukh/Desktop/adversarial-bert-german-attacks-defense/bert_finetuning/datasets/germeval_dataset/germ_eval_test.csv')\n",
    "\n",
    "germeval_y = []\n",
    "germeval_pred = []\n",
    "for index, row in tqdm(germeval_test_dataset.iterrows(), total=germeval_test_dataset.shape[0]):\n",
    "    germeval_y.append(row.label)\n",
    "    if germeval_pipeline(row.text, pad_to_max_length=True, truncation=True)[0]['label'] == 'LABEL_0':\n",
    "        germeval_pred.append(0)\n",
    "    else:\n",
    "        germeval_pred.append(1)\n",
    "print(classification_report(germeval_y, germeval_pred))"
   ]
  }
 ],
 "metadata": {
  "kernelspec": {
   "display_name": "Python 3",
   "language": "python",
   "name": "python3"
  },
  "language_info": {
   "codemirror_mode": {
    "name": "ipython",
    "version": 3
   },
   "file_extension": ".py",
   "mimetype": "text/x-python",
   "name": "python",
   "nbconvert_exporter": "python",
   "pygments_lexer": "ipython3",
   "version": "3.8.5"
  }
 },
 "nbformat": 4,
 "nbformat_minor": 4
}
